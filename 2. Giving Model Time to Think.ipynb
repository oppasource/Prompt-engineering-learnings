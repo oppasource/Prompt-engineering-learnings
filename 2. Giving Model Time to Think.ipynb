{
 "cells": [
  {
   "cell_type": "code",
   "execution_count": null,
   "id": "4de0b70a",
   "metadata": {},
   "outputs": [],
   "source": []
  },
  {
   "cell_type": "code",
   "execution_count": null,
   "id": "45a43f19",
   "metadata": {},
   "outputs": [],
   "source": [
    "import openai\n",
    "import os\n",
    "\n",
    "from dotenv import load_dotenv, find_dotenv\n",
    "_ = load_dotenv(find_dotenv())\n",
    "\n",
    "openai.api_key  = os.getenv('OPENAI_API_KEY')"
   ]
  },
  {
   "cell_type": "code",
   "execution_count": null,
   "id": "583893cf",
   "metadata": {},
   "outputs": [],
   "source": [
    "def get_completion(prompt, model=\"gpt-3.5-turbo\"):\n",
    "    messages = [{\"role\": \"user\", \"content\": prompt}]\n",
    "    response = openai.ChatCompletion.create(\n",
    "        model=model,\n",
    "        messages=messages,\n",
    "        temperature=0, # this is the degree of randomness of the model's output\n",
    "    )\n",
    "    return response.choices[0].message[\"content\"]"
   ]
  },
  {
   "cell_type": "code",
   "execution_count": null,
   "id": "ef7c5d88",
   "metadata": {},
   "outputs": [],
   "source": [
    "prompt = f\"\"\"\n",
    "Calculate CAGR for start value: 100, ending value: 150 and for 2 years\n",
    "\"\"\"\n",
    "response = get_completion(prompt)\n",
    "print(response)"
   ]
  },
  {
   "cell_type": "markdown",
   "id": "78f6eac5",
   "metadata": {},
   "source": [
    "The formula for CAGR (Compound Annual Growth Rate) is:\n",
    "\n",
    "CAGR = (Ending Value / Start Value)^(1 / Number of Years) - 1\n",
    "\n",
    "Plugging in the values given:\n",
    "\n",
    "CAGR = (150 / 100)^(1 / 2) - 1\n",
    "\n",
    "CAGR = 1.22 - 1\n",
    "\n",
    "CAGR = 0.22 or 22%\n",
    "\n",
    "Therefore, the CAGR for a start value of 100, ending value of 150, and a 2-year period is 22%."
   ]
  },
  {
   "cell_type": "markdown",
   "id": "eea30886",
   "metadata": {},
   "source": [
    "## Tactics 1: Providing Steps"
   ]
  },
  {
   "cell_type": "code",
   "execution_count": null,
   "id": "edef7b98",
   "metadata": {},
   "outputs": [],
   "source": [
    "prompt = f\"\"\"\n",
    "Calculate CAGR for start value: 100, ending value: 150 and for 2 years\n",
    "\n",
    "This is how CAGR can be calculated:\n",
    "step 1: calculate 1 over period\n",
    "step 2: calculate end value over start value\n",
    "step 3: raise the value you got from step 2 to the power of the value you got from step 1\n",
    "step 4: subtract 1 from whatever you got from step 3\n",
    "\"\"\"\n",
    "response = get_completion(prompt)\n",
    "print(response)"
   ]
  },
  {
   "cell_type": "markdown",
   "id": "0c1a6a09",
   "metadata": {},
   "source": [
    "For the given values, the calculation would be:\n",
    "\n",
    "Step 1: 1/2 = 0.5 \n",
    "\n",
    "Step 2: 150/100 = 1.5 \n",
    "\n",
    "Step 3: 1.5^0.5 = 1.2247 \n",
    "\n",
    "Step 4: 1.2247 - 1 = 0.2247\n",
    "\n",
    "Therefore, the CAGR for a start value of 100, ending value of 150 and for 2 years is 22.47%."
   ]
  },
  {
   "cell_type": "markdown",
   "id": "af55645c",
   "metadata": {},
   "source": [
    "## Tactics 2: Ask model to work out solution"
   ]
  },
  {
   "cell_type": "code",
   "execution_count": null,
   "id": "5f2c5f4a",
   "metadata": {},
   "outputs": [],
   "source": [
    "prompt = f\"\"\"\n",
    "Calculate CAGR for start value: 100, ending value: 150 and for 2 years\n",
    "Dont calculate the whole equation in one step. \\\n",
    "Break down the calculation and perform smallest atomic calculations like \\\n",
    "division, multiplication, etc first.\n",
    "\"\"\"\n",
    "response = get_completion(prompt)\n",
    "print(response)"
   ]
  },
  {
   "cell_type": "markdown",
   "id": "522acab2",
   "metadata": {},
   "source": [
    "The formula for CAGR (Compound Annual Growth Rate) is:\n",
    "\n",
    "CAGR = (Ending Value / Start Value)^(1/Number of Years) - 1\n",
    "\n",
    "In this case, the start value is 100, the ending value is 150, and the number of years is 2. \n",
    "\n",
    "First, we need to calculate the growth factor:\n",
    "\n",
    "Growth Factor = Ending Value / Start Value = 150 / 100 = 1.5\n",
    "\n",
    "Next, we need to calculate the exponent:\n",
    "\n",
    "Exponent = 1 / Number of Years = 1 / 2 = 0.5\n",
    "\n",
    "Now we can calculate the CAGR:\n",
    "\n",
    "CAGR = Growth Factor^(Exponent) - 1 = 1.5^(0.5) - 1 = 0.2247 or 22.47%\n",
    "\n",
    "Therefore, the CAGR for a start value of 100, ending value of 150, and 2 years is 22.47%."
   ]
  },
  {
   "cell_type": "code",
   "execution_count": null,
   "id": "6bbd5ce7",
   "metadata": {},
   "outputs": [],
   "source": []
  },
  {
   "cell_type": "code",
   "execution_count": null,
   "id": "f13e5949",
   "metadata": {},
   "outputs": [],
   "source": []
  },
  {
   "cell_type": "code",
   "execution_count": null,
   "id": "459dd76e",
   "metadata": {},
   "outputs": [],
   "source": []
  },
  {
   "cell_type": "code",
   "execution_count": null,
   "id": "4a86ed5d",
   "metadata": {},
   "outputs": [],
   "source": []
  },
  {
   "cell_type": "code",
   "execution_count": null,
   "id": "eaa0d418",
   "metadata": {},
   "outputs": [],
   "source": []
  }
 ],
 "metadata": {
  "kernelspec": {
   "display_name": "Python 3 (ipykernel)",
   "language": "python",
   "name": "python3"
  },
  "language_info": {
   "codemirror_mode": {
    "name": "ipython",
    "version": 3
   },
   "file_extension": ".py",
   "mimetype": "text/x-python",
   "name": "python",
   "nbconvert_exporter": "python",
   "pygments_lexer": "ipython3",
   "version": "3.8.13"
  }
 },
 "nbformat": 4,
 "nbformat_minor": 5
}
