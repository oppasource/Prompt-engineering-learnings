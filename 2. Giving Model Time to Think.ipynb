{
 "cells": [
  {
   "cell_type": "markdown",
   "id": "6ed8e816",
   "metadata": {},
   "source": [
    "# Giving model time to think\n",
    "\n",
    "Just like humans, LLMs also need time to think of a solution. Humans generally tend to think of solution by going through steps. If there is mathematical calculation involved, humans solve it by calculating the parts of the equation first and then substituting the value in final equation to get final answers. Similarly LLM may also get confused we final answer is asked directly. In this notebook we show how the LLM answers can improve in calculation accuracy by asking the model to sove in steps or give it the steps to solve."
   ]
  },
  {
   "cell_type": "markdown",
   "id": "5599451e",
   "metadata": {},
   "source": [
    "We will first import required libraries and load the API key."
   ]
  },
  {
   "cell_type": "code",
   "execution_count": null,
   "id": "45a43f19",
   "metadata": {},
   "outputs": [],
   "source": [
    "import openai\n",
    "import os\n",
    "\n",
    "from dotenv import load_dotenv, find_dotenv\n",
    "_ = load_dotenv(find_dotenv())\n",
    "\n",
    "openai.api_key  = os.getenv('OPENAI_API_KEY')"
   ]
  },
  {
   "cell_type": "markdown",
   "id": "f11c042d",
   "metadata": {},
   "source": [
    "We create a helper function which is useful to get the completion of the input prompt using an LLM (GPT-3.5-turbo in this case)."
   ]
  },
  {
   "cell_type": "code",
   "execution_count": null,
   "id": "583893cf",
   "metadata": {},
   "outputs": [],
   "source": [
    "def get_completion(prompt, model=\"gpt-3.5-turbo\"):\n",
    "    messages = [{\"role\": \"user\", \"content\": prompt}]\n",
    "    response = openai.ChatCompletion.create(\n",
    "        model=model,\n",
    "        messages=messages,\n",
    "        temperature=0, # this is the degree of randomness of the model's output\n",
    "    )\n",
    "    return response.choices[0].message[\"content\"]"
   ]
  },
  {
   "cell_type": "markdown",
   "id": "f770a2ce",
   "metadata": {},
   "source": [
    "## Without giving model time to think\n",
    "\n",
    "We first demonstrate CAGR calculation by just asking LLM for the final answer. We observe that it does have the correct formula to solve and does correct substitution but misses calculating the correct answer."
   ]
  },
  {
   "cell_type": "code",
   "execution_count": null,
   "id": "ef7c5d88",
   "metadata": {},
   "outputs": [],
   "source": [
    "prompt = f\"\"\"\n",
    "Calculate CAGR for start value: 100, ending value: 150 and for 2 years\n",
    "\"\"\"\n",
    "response = get_completion(prompt)\n",
    "print(response)"
   ]
  },
  {
   "cell_type": "markdown",
   "id": "78f6eac5",
   "metadata": {},
   "source": [
    "The formula for CAGR (Compound Annual Growth Rate) is:\n",
    "\n",
    "CAGR = (Ending Value / Start Value)^(1 / Number of Years) - 1\n",
    "\n",
    "Plugging in the values given:\n",
    "\n",
    "CAGR = (150 / 100)^(1 / 2) - 1\n",
    "\n",
    "CAGR = 1.22 - 1\n",
    "\n",
    "CAGR = 0.22 or 22%\n",
    "\n",
    "Therefore, the CAGR for a start value of 100, ending value of 150, and a 2-year period is 22%."
   ]
  },
  {
   "cell_type": "markdown",
   "id": "eea30886",
   "metadata": {},
   "source": [
    "## Tactics 1: Providing Steps"
   ]
  },
  {
   "cell_type": "markdown",
   "id": "1d7715bd",
   "metadata": {},
   "source": [
    "In this prompt, we give exact steps to calculate CAGR and ask the LLM to calculte one step at a time. We observe that we get more accurate solution in this case compared to when we ask it to directly calculate final answer."
   ]
  },
  {
   "cell_type": "code",
   "execution_count": null,
   "id": "edef7b98",
   "metadata": {},
   "outputs": [],
   "source": [
    "prompt = f\"\"\"\n",
    "Calculate CAGR for start value: 100, ending value: 150 and for 2 years\n",
    "\n",
    "This is how CAGR can be calculated:\n",
    "step 1: calculate 1 over period\n",
    "step 2: calculate end value over start value\n",
    "step 3: raise the value you got from step 2 to the power of the value you got from step 1\n",
    "step 4: subtract 1 from whatever you got from step 3\n",
    "\"\"\"\n",
    "response = get_completion(prompt)\n",
    "print(response)"
   ]
  },
  {
   "cell_type": "markdown",
   "id": "0c1a6a09",
   "metadata": {},
   "source": [
    "For the given values, the calculation would be:\n",
    "\n",
    "Step 1: 1/2 = 0.5 \n",
    "\n",
    "Step 2: 150/100 = 1.5 \n",
    "\n",
    "Step 3: 1.5^0.5 = 1.2247 \n",
    "\n",
    "Step 4: 1.2247 - 1 = 0.2247\n",
    "\n",
    "Therefore, the CAGR for a start value of 100, ending value of 150 and for 2 years is 22.47%."
   ]
  },
  {
   "cell_type": "markdown",
   "id": "af55645c",
   "metadata": {},
   "source": [
    "## Tactics 2: Ask model to work out solution"
   ]
  },
  {
   "cell_type": "markdown",
   "id": "0667ecad",
   "metadata": {},
   "source": [
    "Sometimes it might not make sense to provide the steps ourselves as that might defeat the whole purpose of having an LLM perform the calcualtion. In this example, we specifically prompt the LLM not to calculate the CAGR in one go but to break down the fundamental math sub-problems and perform the calculation in steps. We observe that we get answer with similar accuracy as when we explicitly gave steps ourselves."
   ]
  },
  {
   "cell_type": "code",
   "execution_count": null,
   "id": "5f2c5f4a",
   "metadata": {},
   "outputs": [],
   "source": [
    "prompt = f\"\"\"\n",
    "Calculate CAGR for start value: 100, ending value: 150 and for 2 years\n",
    "Dont calculate the whole equation in one step. \\\n",
    "Break down the calculation and perform smallest atomic calculations like \\\n",
    "division, multiplication, etc first.\n",
    "\"\"\"\n",
    "response = get_completion(prompt)\n",
    "print(response)"
   ]
  },
  {
   "cell_type": "markdown",
   "id": "522acab2",
   "metadata": {},
   "source": [
    "The formula for CAGR (Compound Annual Growth Rate) is:\n",
    "\n",
    "CAGR = (Ending Value / Start Value)^(1/Number of Years) - 1\n",
    "\n",
    "In this case, the start value is 100, the ending value is 150, and the number of years is 2. \n",
    "\n",
    "First, we need to calculate the growth factor:\n",
    "\n",
    "Growth Factor = Ending Value / Start Value = 150 / 100 = 1.5\n",
    "\n",
    "Next, we need to calculate the exponent:\n",
    "\n",
    "Exponent = 1 / Number of Years = 1 / 2 = 0.5\n",
    "\n",
    "Now we can calculate the CAGR:\n",
    "\n",
    "CAGR = Growth Factor^(Exponent) - 1 = 1.5^(0.5) - 1 = 0.2247 or 22.47%\n",
    "\n",
    "Therefore, the CAGR for a start value of 100, ending value of 150, and 2 years is 22.47%."
   ]
  },
  {
   "cell_type": "code",
   "execution_count": null,
   "id": "6bbd5ce7",
   "metadata": {},
   "outputs": [],
   "source": []
  }
 ],
 "metadata": {
  "kernelspec": {
   "display_name": "Python 3 (ipykernel)",
   "language": "python",
   "name": "python3"
  },
  "language_info": {
   "codemirror_mode": {
    "name": "ipython",
    "version": 3
   },
   "file_extension": ".py",
   "mimetype": "text/x-python",
   "name": "python",
   "nbconvert_exporter": "python",
   "pygments_lexer": "ipython3",
   "version": "3.8.13"
  }
 },
 "nbformat": 4,
 "nbformat_minor": 5
}
