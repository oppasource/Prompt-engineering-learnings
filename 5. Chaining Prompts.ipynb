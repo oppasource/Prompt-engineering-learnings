{
 "cells": [
  {
   "cell_type": "code",
   "execution_count": null,
   "id": "41ed619c",
   "metadata": {},
   "outputs": [],
   "source": []
  },
  {
   "cell_type": "code",
   "execution_count": null,
   "id": "4da70a34",
   "metadata": {},
   "outputs": [],
   "source": [
    "import os\n",
    "import openai\n",
    "from dotenv import load_dotenv, find_dotenv\n",
    "_ = load_dotenv(find_dotenv()) # read local .env file\n",
    "\n",
    "openai.api_key  = os.environ['OPENAI_API_KEY']"
   ]
  },
  {
   "cell_type": "code",
   "execution_count": null,
   "id": "a2c259ea",
   "metadata": {},
   "outputs": [],
   "source": [
    "def get_completion_from_messages(messages, \n",
    "                                 model=\"gpt-3.5-turbo\", \n",
    "                                 temperature=0, \n",
    "                                 max_tokens=500):\n",
    "    response = openai.ChatCompletion.create(\n",
    "        model=model,\n",
    "        messages=messages,\n",
    "        temperature=temperature, \n",
    "        max_tokens=max_tokens, \n",
    "    )\n",
    "    return response.choices[0].message[\"content\"]"
   ]
  },
  {
   "cell_type": "code",
   "execution_count": null,
   "id": "d7cf8a7a",
   "metadata": {},
   "outputs": [],
   "source": [
    "delimiter = \"####\"\n",
    "\n",
    "\n",
    "system_message = f\"\"\"\n",
    "You will be provided with movie viewer queries. \\\n",
    "The viewer query will be delimited with \\\n",
    "{delimiter} characters.\n",
    "Output a python dictionary with following keys:\n",
    "    'genre': <a list of of genres that must be found strictly in the allowed genre list below>,\n",
    "    'title': <a list of movies that must be found strictly in the allowed movie list below>\n",
    "\n",
    "Allowed genre list in our database:\n",
    "Action\n",
    "Drama\n",
    "Comedy\n",
    "Thriller\n",
    "Adventure\n",
    "Sci-Fi\n",
    "Fantasy\n",
    "Romance\n",
    "\n",
    "Allowed movie list in out database:\n",
    "The Secret Life of Dreams\n",
    "Echoes of Eternity\n",
    "Rhythm of Redemption\n",
    "The Edge of Darkness\n",
    "\n",
    "Only output the dictionary of objects, with nothing else.\n",
    "\"\"\"\n",
    "\n",
    "\n",
    "user_message_1 = f\"\"\"\n",
    "\n",
    "I want to know about a movie its name was something like heros of eternity, \\\n",
    "also tell me about any sci-fi movie\n",
    "\n",
    "\"\"\"\n",
    "\n",
    "messages =  [  \n",
    "{'role':'system', \n",
    " 'content': system_message},    \n",
    "{'role':'user', \n",
    " 'content': f\"{delimiter}{user_message_1}{delimiter}\"},  \n",
    "]\n",
    "\n",
    "movies_and_genres_response_1 = get_completion_from_messages(messages)\n",
    "print(movies_and_genres_response_1)"
   ]
  },
  {
   "cell_type": "markdown",
   "id": "19ff7dd3",
   "metadata": {},
   "source": [
    "{\\\n",
    "    'genre': ['Sci-Fi'], \\\n",
    "    'title': ['Echoes of Eternity'] \\\n",
    "}"
   ]
  },
  {
   "cell_type": "code",
   "execution_count": null,
   "id": "c42eac8b",
   "metadata": {},
   "outputs": [],
   "source": [
    "movies_db = [\n",
    "  {\n",
    "    \"title\": \"The Secret Life of Dreams\",\n",
    "    \"genre\": [\"Fantasy\", \"Drama\"],\n",
    "    \"rating\": 8.2,\n",
    "    \"cast\": [\"Emma Thompson\", \"Tom Hanks\", \"Lily James\"],\n",
    "    \"release_date\": \"2022-07-15\"\n",
    "  },\n",
    "  {\n",
    "    \"title\": \"Echoes of Eternity\",\n",
    "    \"genre\": [\"Mystery\", \"Thriller\"],\n",
    "    \"rating\": 7.6,\n",
    "    \"cast\": [\"Mark Ruffalo\", \"Emily Blunt\", \"Michael Fassbender\"],\n",
    "    \"release_date\": \"2021-11-03\"\n",
    "  },\n",
    "  {\n",
    "    \"title\": \"Rhythm of Redemption\",\n",
    "    \"genre\": [\"Musical\", \"Romance\"],\n",
    "    \"rating\": 6.9,\n",
    "    \"cast\": [\"Anna Kendrick\", \"Chris Evans\", \"Zendaya\"],\n",
    "    \"release_date\": \"2023-02-28\"\n",
    "  },\n",
    "  {\n",
    "    \"title\": \"The Edge of Darkness\",\n",
    "    \"genre\": [\"Action\", \"Sci-Fi\"],\n",
    "    \"rating\": 7.8,\n",
    "    \"cast\": [\"Scarlett Johansson\", \"Chris Pratt\", \"Robert Downey Jr.\"],\n",
    "    \"release_date\": \"2022-09-10\"\n",
    "  }\n",
    "]\n"
   ]
  },
  {
   "cell_type": "code",
   "execution_count": null,
   "id": "ea01fee1",
   "metadata": {},
   "outputs": [],
   "source": [
    "def get_movie_by_name(name):\n",
    "    return [movie for movie in movies_db if movie.get(\"title\") == name]\n",
    "\n",
    "def get_movie_by_genre(genre):\n",
    "    return [movie for movie in movies_db if genre in movie.get(\"genre\")]\n"
   ]
  },
  {
   "cell_type": "code",
   "execution_count": null,
   "id": "5310b6da",
   "metadata": {},
   "outputs": [],
   "source": [
    "get_movie_by_name('The Secret Life of Dreams')"
   ]
  },
  {
   "cell_type": "markdown",
   "id": "ff69eba5",
   "metadata": {},
   "source": [
    "[{'title': 'The Secret Life of Dreams',\\\n",
    "  'genre': ['Fantasy', 'Drama'],\\\n",
    "  'rating': 8.2,\\\n",
    "  'cast': ['Emma Thompson', 'Tom Hanks', 'Lily James'],\\\n",
    "  'release_date': '2022-07-15'}]"
   ]
  },
  {
   "cell_type": "code",
   "execution_count": null,
   "id": "f4778b65",
   "metadata": {},
   "outputs": [],
   "source": [
    "get_movie_by_genre('Romance')"
   ]
  },
  {
   "cell_type": "markdown",
   "id": "ec980146",
   "metadata": {},
   "source": [
    "[{'title': 'Rhythm of Redemption',\\\n",
    "  'genre': ['Musical', 'Romance'],\\\n",
    "  'rating': 6.9,\\\n",
    "  'cast': ['Anna Kendrick', 'Chris Evans', 'Zendaya'],\\\n",
    "  'release_date': '2023-02-28'}]"
   ]
  },
  {
   "cell_type": "code",
   "execution_count": null,
   "id": "ccdb0167",
   "metadata": {},
   "outputs": [],
   "source": [
    "def retrieve_info_of_required_movie(prompt_1_response):\n",
    "    movies_and_genres_dict = eval(prompt_1_response)\n",
    "    \n",
    "    movies_by_title = [get_movie_by_name(title) for title in movies_and_genres_dict.get('title')]\n",
    "    movies_by_genre = [get_movie_by_genre(genre) for genre in movies_and_genres_dict.get('genre')]\n",
    "    \n",
    "    movies_by_title = [item for sublist in movies_by_title for item in sublist]\n",
    "    movies_by_genre = [item for sublist in movies_by_genre for item in sublist]\n",
    "    \n",
    "    merged_movies_list = []\n",
    "    added_movies = []\n",
    "    for movie_by_title in movies_by_title:\n",
    "        for movie_by_genre in movies_by_genre:\n",
    "            if movie_by_title.get('title') not in added_movies:\n",
    "                merged_movies_list.append(movie_by_title)\n",
    "                added_movies.append(movie_by_title.get('title'))\n",
    "            if movie_by_genre.get('title') not in added_movies:\n",
    "                merged_movies_list.append(movie_by_genre)\n",
    "                added_movies.append(movie_by_genre.get('title'))\n",
    "    return merged_movies_list"
   ]
  },
  {
   "cell_type": "code",
   "execution_count": null,
   "id": "f4fab0bf",
   "metadata": {},
   "outputs": [],
   "source": [
    "retrieve_info_of_required_movie(movies_and_genres_response_1)"
   ]
  },
  {
   "cell_type": "markdown",
   "id": "3bcd14ec",
   "metadata": {},
   "source": [
    "[{'title': 'Echoes of Eternity',\\\n",
    "  'genre': ['Mystery', 'Thriller'],\\\n",
    "  'rating': 7.6,\\\n",
    "  'cast': ['Mark Ruffalo', 'Emily Blunt', 'Michael Fassbender'],\\\n",
    "  'release_date': '2021-11-03'},\\\n",
    " {'title': 'The Edge of Darkness',\\\n",
    "  'genre': ['Action', 'Sci-Fi'],\\\n",
    "  'rating': 7.8,\\\n",
    "  'cast': ['Scarlett Johansson', 'Chris Pratt', 'Robert Downey Jr.'],\\\n",
    "  'release_date': '2022-09-10'}]"
   ]
  },
  {
   "cell_type": "code",
   "execution_count": null,
   "id": "c140d6b1",
   "metadata": {},
   "outputs": [],
   "source": [
    "system_message = f\"\"\"\n",
    "You are a movie information assistant. \\\n",
    "Respond with very concise answers based on the data retrieved from the database. \\\n",
    "Make sure to ask the user relevant follow up questions.\n",
    "\"\"\"\n",
    "user_message_1 = f\"\"\"\n",
    "\n",
    "I want to know about a movie its name was something like heros of eternity, \\\n",
    "also tell me release dates of any sci-fi movie that is there.\n",
    "\n",
    "\"\"\"\n",
    "messages =  [  \n",
    "{'role':'system',\n",
    " 'content': system_message},   \n",
    "{'role':'user',\n",
    " 'content': user_message_1},  \n",
    "{'role':'assistant',\n",
    " 'content': f\"\"\"Relevant movie information:\\n\\\n",
    " {retrieve_info_of_required_movie(movies_and_genres_response_1)}\"\"\"},   \n",
    "]\n",
    "final_response = get_completion_from_messages(messages)\n",
    "print(final_response)"
   ]
  },
  {
   "cell_type": "markdown",
   "id": "ee9d1c18",
   "metadata": {},
   "source": [
    "I'm sorry, but there is no movie in the database with the title \"Heros of Eternity\". However, there is a movie called \"Echoes of Eternity\" which is a mystery thriller and has a rating of 7.6. Would you like to know more about this movie?\n",
    "\n",
    "As for the release dates of sci-fi movies, there is one called \"The Edge of Darkness\" which is set to release on September 10th, 2022. Would you like to know more about this movie or any other sci-fi movies?"
   ]
  },
  {
   "cell_type": "code",
   "execution_count": null,
   "id": "9a9e2720",
   "metadata": {},
   "outputs": [],
   "source": []
  }
 ],
 "metadata": {
  "kernelspec": {
   "display_name": "Python 3 (ipykernel)",
   "language": "python",
   "name": "python3"
  },
  "language_info": {
   "codemirror_mode": {
    "name": "ipython",
    "version": 3
   },
   "file_extension": ".py",
   "mimetype": "text/x-python",
   "name": "python",
   "nbconvert_exporter": "python",
   "pygments_lexer": "ipython3",
   "version": "3.8.13"
  }
 },
 "nbformat": 4,
 "nbformat_minor": 5
}
