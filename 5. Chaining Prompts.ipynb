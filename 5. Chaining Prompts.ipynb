{
 "cells": [
  {
   "cell_type": "markdown",
   "id": "afcf2107",
   "metadata": {},
   "source": [
    "# Chaining Prompts\n",
    "\n",
    "Usually, in an information system a database is involved and operations are performed on that database. If we want LLMs to have information about our database so it can repond to user queries with that information then it becomes tough to provide the complete database information in one single prompt. This is where chaining prompts can be useful. The way system is designed is that we use frist prompt to get entities or attributes to query to the db. Then we retrieve the information about those entities and attributes from database rather than the complete database. This retrieved data is passed through the second prompt to get user response based on that retrieved information.\n",
    "\n",
    "Chaining prompt basically means breaking down one single problem into bunch of problems or prompts and chaining them together. This can help reduce the prompt size by not overloading prompts with information and thus making it more efficient in terms of performance and cost. Please note that any operation can be performed like calling an external API in between prompts which makes it very useful.\n",
    "\n",
    "In this notebook we take an example where we try and build a system that answers queries around movies. For demonstration purpose, we expose 2 APIs to retrieve movie data by name and genre. We first etxract which movie titles and genre is user asking information about. We then use the APIs to retrieve information about those entities and then feed this data in another prompt with the same user query to generate a response."
   ]
  },
  {
   "cell_type": "markdown",
   "id": "54b40af5",
   "metadata": {},
   "source": [
    "We will first import required libraries and load the API key."
   ]
  },
  {
   "cell_type": "code",
   "execution_count": null,
   "id": "4da70a34",
   "metadata": {},
   "outputs": [],
   "source": [
    "import os\n",
    "import openai\n",
    "from dotenv import load_dotenv, find_dotenv\n",
    "_ = load_dotenv(find_dotenv()) # read local .env file\n",
    "\n",
    "openai.api_key  = os.environ['OPENAI_API_KEY']"
   ]
  },
  {
   "cell_type": "markdown",
   "id": "73abf1f0",
   "metadata": {},
   "source": [
    "We create a helper function which is useful to get the completion of the input prompt using an LLM (GPT-3.5-turbo in this case)."
   ]
  },
  {
   "cell_type": "code",
   "execution_count": null,
   "id": "a2c259ea",
   "metadata": {},
   "outputs": [],
   "source": [
    "def get_completion_from_messages(messages, \n",
    "                                 model=\"gpt-3.5-turbo\", \n",
    "                                 temperature=0, \n",
    "                                 max_tokens=500):\n",
    "    response = openai.ChatCompletion.create(\n",
    "        model=model,\n",
    "        messages=messages,\n",
    "        temperature=temperature, \n",
    "        max_tokens=max_tokens, \n",
    "    )\n",
    "    return response.choices[0].message[\"content\"]"
   ]
  },
  {
   "cell_type": "markdown",
   "id": "fa309c8f",
   "metadata": {},
   "source": [
    "We use the below prompt as component in our system to extract which movie titles and genre to query our database. \n",
    "\n",
    "We list down the possible names and genre that we have in our database.\n",
    "\n",
    "In the prompt we mention the output format (JSON with keys) so we can easily parse these entities to query our database.\n",
    "\n",
    "Please note in real world scenerio we would add validations around user query to check if user is asking about movies first and then trigger following prompt. Few other validations to the query would also be required depending on the different types of query inputs recieved."
   ]
  },
  {
   "cell_type": "code",
   "execution_count": null,
   "id": "d7cf8a7a",
   "metadata": {},
   "outputs": [],
   "source": [
    "delimiter = \"####\"\n",
    "\n",
    "\n",
    "system_message = f\"\"\"\n",
    "You will be provided with movie viewer queries. \\\n",
    "The viewer query will be delimited with \\\n",
    "{delimiter} characters.\n",
    "Output a python dictionary with following keys:\n",
    "    'genre': <a list of of genres that must be found strictly in the allowed genre list below>,\n",
    "    'title': <a list of movies that must be found strictly in the allowed movie list below>\n",
    "\n",
    "Allowed genre list in our database:\n",
    "Action\n",
    "Drama\n",
    "Comedy\n",
    "Thriller\n",
    "Adventure\n",
    "Sci-Fi\n",
    "Fantasy\n",
    "Romance\n",
    "\n",
    "Allowed movie list in out database:\n",
    "The Secret Life of Dreams\n",
    "Echoes of Eternity\n",
    "Rhythm of Redemption\n",
    "The Edge of Darkness\n",
    "\n",
    "Only output the dictionary of objects, with nothing else.\n",
    "\"\"\"\n",
    "\n",
    "\n",
    "user_message_1 = f\"\"\"\n",
    "\n",
    "I want to know about a movie its name was something like heros of eternity, \\\n",
    "also tell me about any sci-fi movie\n",
    "\n",
    "\"\"\"\n",
    "\n",
    "messages =  [  \n",
    "{'role':'system', \n",
    " 'content': system_message},    \n",
    "{'role':'user', \n",
    " 'content': f\"{delimiter}{user_message_1}{delimiter}\"},  \n",
    "]\n",
    "\n",
    "movies_and_genres_response_1 = get_completion_from_messages(messages)\n",
    "print(movies_and_genres_response_1)"
   ]
  },
  {
   "cell_type": "markdown",
   "id": "19ff7dd3",
   "metadata": {},
   "source": [
    "{\\\n",
    "    'genre': ['Sci-Fi'], \\\n",
    "    'title': ['Echoes of Eternity'] \\\n",
    "}"
   ]
  },
  {
   "cell_type": "code",
   "execution_count": null,
   "id": "f282e7a4",
   "metadata": {},
   "outputs": [],
   "source": []
  },
  {
   "cell_type": "markdown",
   "id": "d4ac6655",
   "metadata": {},
   "source": [
    "We define a small toy database for demonstration pursore below."
   ]
  },
  {
   "cell_type": "code",
   "execution_count": null,
   "id": "c42eac8b",
   "metadata": {},
   "outputs": [],
   "source": [
    "movies_db = [\n",
    "  {\n",
    "    \"title\": \"The Secret Life of Dreams\",\n",
    "    \"genre\": [\"Fantasy\", \"Drama\"],\n",
    "    \"rating\": 8.2,\n",
    "    \"cast\": [\"Emma Thompson\", \"Tom Hanks\", \"Lily James\"],\n",
    "    \"release_date\": \"2022-07-15\"\n",
    "  },\n",
    "  {\n",
    "    \"title\": \"Echoes of Eternity\",\n",
    "    \"genre\": [\"Mystery\", \"Thriller\"],\n",
    "    \"rating\": 7.6,\n",
    "    \"cast\": [\"Mark Ruffalo\", \"Emily Blunt\", \"Michael Fassbender\"],\n",
    "    \"release_date\": \"2021-11-03\"\n",
    "  },\n",
    "  {\n",
    "    \"title\": \"Rhythm of Redemption\",\n",
    "    \"genre\": [\"Musical\", \"Romance\"],\n",
    "    \"rating\": 6.9,\n",
    "    \"cast\": [\"Anna Kendrick\", \"Chris Evans\", \"Zendaya\"],\n",
    "    \"release_date\": \"2023-02-28\"\n",
    "  },\n",
    "  {\n",
    "    \"title\": \"The Edge of Darkness\",\n",
    "    \"genre\": [\"Action\", \"Sci-Fi\"],\n",
    "    \"rating\": 7.8,\n",
    "    \"cast\": [\"Scarlett Johansson\", \"Chris Pratt\", \"Robert Downey Jr.\"],\n",
    "    \"release_date\": \"2022-09-10\"\n",
    "  }\n",
    "]\n"
   ]
  },
  {
   "cell_type": "markdown",
   "id": "1a821f2e",
   "metadata": {},
   "source": [
    "Below are the helper functions that can be used to retrieve movies from our db using name or genre."
   ]
  },
  {
   "cell_type": "code",
   "execution_count": null,
   "id": "ea01fee1",
   "metadata": {},
   "outputs": [],
   "source": [
    "def get_movie_by_name(name):\n",
    "    return [movie for movie in movies_db if movie.get(\"title\") == name]\n",
    "\n",
    "def get_movie_by_genre(genre):\n",
    "    return [movie for movie in movies_db if genre in movie.get(\"genre\")]\n"
   ]
  },
  {
   "cell_type": "code",
   "execution_count": null,
   "id": "5310b6da",
   "metadata": {},
   "outputs": [],
   "source": [
    "get_movie_by_name('The Secret Life of Dreams')"
   ]
  },
  {
   "cell_type": "markdown",
   "id": "ff69eba5",
   "metadata": {},
   "source": [
    "[{'title': 'The Secret Life of Dreams',\\\n",
    "  'genre': ['Fantasy', 'Drama'],\\\n",
    "  'rating': 8.2,\\\n",
    "  'cast': ['Emma Thompson', 'Tom Hanks', 'Lily James'],\\\n",
    "  'release_date': '2022-07-15'}]"
   ]
  },
  {
   "cell_type": "code",
   "execution_count": null,
   "id": "f4778b65",
   "metadata": {},
   "outputs": [],
   "source": [
    "get_movie_by_genre('Romance')"
   ]
  },
  {
   "cell_type": "markdown",
   "id": "ec980146",
   "metadata": {},
   "source": [
    "[{'title': 'Rhythm of Redemption',\\\n",
    "  'genre': ['Musical', 'Romance'],\\\n",
    "  'rating': 6.9,\\\n",
    "  'cast': ['Anna Kendrick', 'Chris Evans', 'Zendaya'],\\\n",
    "  'release_date': '2023-02-28'}]"
   ]
  },
  {
   "cell_type": "code",
   "execution_count": null,
   "id": "f3456d4f",
   "metadata": {},
   "outputs": [],
   "source": []
  },
  {
   "cell_type": "markdown",
   "id": "d3082822",
   "metadata": {},
   "source": [
    "We create another helper funciton below that takes the response of prompt 1, retrieves and merges the list of movies to be returned. Response will contain all the information about the movies helpful in answering user questions.\n",
    "\n",
    "Please note that even in this function we would need to add validation checks to make sure the prompt response was in proper JSON structure which can be parsed."
   ]
  },
  {
   "cell_type": "code",
   "execution_count": 1,
   "id": "ccdb0167",
   "metadata": {},
   "outputs": [],
   "source": [
    "def retrieve_info_of_required_movie(prompt_1_response):\n",
    "    movies_and_genres_dict = eval(prompt_1_response)\n",
    "    \n",
    "    movies_by_title = [get_movie_by_name(title) for title in movies_and_genres_dict.get('title')]\n",
    "    movies_by_genre = [get_movie_by_genre(genre) for genre in movies_and_genres_dict.get('genre')]\n",
    "    \n",
    "    movies_by_title = [item for sublist in movies_by_title for item in sublist]\n",
    "    movies_by_genre = [item for sublist in movies_by_genre for item in sublist]\n",
    "    \n",
    "    merged_movies_list = []\n",
    "    added_movies = []\n",
    "    for movie_by_title in movies_by_title:\n",
    "        for movie_by_genre in movies_by_genre:\n",
    "            if movie_by_title.get('title') not in added_movies:\n",
    "                merged_movies_list.append(movie_by_title)\n",
    "                added_movies.append(movie_by_title.get('title'))\n",
    "            if movie_by_genre.get('title') not in added_movies:\n",
    "                merged_movies_list.append(movie_by_genre)\n",
    "                added_movies.append(movie_by_genre.get('title'))\n",
    "    return merged_movies_list"
   ]
  },
  {
   "cell_type": "code",
   "execution_count": null,
   "id": "f4fab0bf",
   "metadata": {},
   "outputs": [],
   "source": [
    "retrieve_info_of_required_movie(movies_and_genres_response_1)"
   ]
  },
  {
   "cell_type": "markdown",
   "id": "3bcd14ec",
   "metadata": {},
   "source": [
    "[{'title': 'Echoes of Eternity',\\\n",
    "  'genre': ['Mystery', 'Thriller'],\\\n",
    "  'rating': 7.6,\\\n",
    "  'cast': ['Mark Ruffalo', 'Emily Blunt', 'Michael Fassbender'],\\\n",
    "  'release_date': '2021-11-03'},\\\n",
    " {'title': 'The Edge of Darkness',\\\n",
    "  'genre': ['Action', 'Sci-Fi'],\\\n",
    "  'rating': 7.8,\\\n",
    "  'cast': ['Scarlett Johansson', 'Chris Pratt', 'Robert Downey Jr.'],\\\n",
    "  'release_date': '2022-09-10'}]"
   ]
  },
  {
   "cell_type": "code",
   "execution_count": null,
   "id": "50f82039",
   "metadata": {},
   "outputs": [],
   "source": []
  },
  {
   "cell_type": "markdown",
   "id": "5118219c",
   "metadata": {},
   "source": [
    "Finally, the retrieved information from db is appended along with the 2nd prompt containing original user query and answer is generated based on that retrieved information."
   ]
  },
  {
   "cell_type": "code",
   "execution_count": null,
   "id": "c140d6b1",
   "metadata": {},
   "outputs": [],
   "source": [
    "system_message = f\"\"\"\n",
    "You are a movie information assistant. \\\n",
    "Respond with very concise answers based on the data retrieved from the database. \\\n",
    "Make sure to ask the user relevant follow up questions.\n",
    "\"\"\"\n",
    "user_message_1 = f\"\"\"\n",
    "\n",
    "I want to know about a movie its name was something like heros of eternity, \\\n",
    "also tell me release dates of any sci-fi movie that is there.\n",
    "\n",
    "\"\"\"\n",
    "messages =  [  \n",
    "{'role':'system',\n",
    " 'content': system_message},   \n",
    "{'role':'user',\n",
    " 'content': user_message_1},  \n",
    "{'role':'assistant',\n",
    " 'content': f\"\"\"Relevant movie information:\\n\\\n",
    " {retrieve_info_of_required_movie(movies_and_genres_response_1)}\"\"\"},   \n",
    "]\n",
    "final_response = get_completion_from_messages(messages)\n",
    "print(final_response)"
   ]
  },
  {
   "cell_type": "markdown",
   "id": "ee9d1c18",
   "metadata": {},
   "source": [
    "I'm sorry, but there is no movie in the database with the title \"Heros of Eternity\". However, there is a movie called \"Echoes of Eternity\" which is a mystery thriller and has a rating of 7.6. Would you like to know more about this movie?\n",
    "\n",
    "As for the release dates of sci-fi movies, there is one called \"The Edge of Darkness\" which is set to release on September 10th, 2022. Would you like to know more about this movie or any other sci-fi movies?"
   ]
  },
  {
   "cell_type": "code",
   "execution_count": null,
   "id": "9a9e2720",
   "metadata": {},
   "outputs": [],
   "source": []
  }
 ],
 "metadata": {
  "kernelspec": {
   "display_name": "Python 3 (ipykernel)",
   "language": "python",
   "name": "python3"
  },
  "language_info": {
   "codemirror_mode": {
    "name": "ipython",
    "version": 3
   },
   "file_extension": ".py",
   "mimetype": "text/x-python",
   "name": "python",
   "nbconvert_exporter": "python",
   "pygments_lexer": "ipython3",
   "version": "3.8.13"
  }
 },
 "nbformat": 4,
 "nbformat_minor": 5
}
