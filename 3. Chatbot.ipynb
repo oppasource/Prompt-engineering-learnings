{
 "cells": [
  {
   "cell_type": "code",
   "execution_count": null,
   "id": "d84d7edc",
   "metadata": {},
   "outputs": [],
   "source": []
  },
  {
   "cell_type": "code",
   "execution_count": null,
   "id": "ab75d51c",
   "metadata": {},
   "outputs": [],
   "source": [
    "import os\n",
    "import openai\n",
    "from dotenv import load_dotenv, find_dotenv\n",
    "_ = load_dotenv(find_dotenv()) # read local .env file\n",
    "\n",
    "openai.api_key  = os.getenv('OPENAI_API_KEY')"
   ]
  },
  {
   "cell_type": "code",
   "execution_count": null,
   "id": "77386540",
   "metadata": {},
   "outputs": [],
   "source": [
    "def get_completion(prompt, model=\"gpt-3.5-turbo\"):\n",
    "    messages = [{\"role\": \"user\", \"content\": prompt}]\n",
    "    response = openai.ChatCompletion.create(\n",
    "        model=model,\n",
    "        messages=messages,\n",
    "        temperature=0, # this is the degree of randomness of the model's output\n",
    "    )\n",
    "    return response.choices[0].message[\"content\"]\n",
    "\n",
    "def get_completion_from_messages(messages, model=\"gpt-3.5-turbo\", temperature=0):\n",
    "    response = openai.ChatCompletion.create(\n",
    "        model=model,\n",
    "        messages=messages,\n",
    "        temperature=temperature, # this is the degree of randomness of the model's output\n",
    "    )\n",
    "#     print(str(response.choices[0].message))\n",
    "    return response.choices[0].message[\"content\"]"
   ]
  },
  {
   "cell_type": "markdown",
   "id": "51a16500",
   "metadata": {},
   "source": [
    "## Chat without context"
   ]
  },
  {
   "cell_type": "code",
   "execution_count": null,
   "id": "893839fd",
   "metadata": {},
   "outputs": [],
   "source": [
    "messages =  [  \n",
    "{'role':'system', 'content':'You are an assistant that speaks by quoting from the tv series Friends.'},    \n",
    "{'role':'user', 'content':'what is my name'}  ]\n",
    "\n",
    "response = get_completion_from_messages(messages, temperature=1)\n",
    "print(response)"
   ]
  },
  {
   "cell_type": "markdown",
   "id": "7d98bebf",
   "metadata": {},
   "source": [
    "\"I don't know your name. We didn't exchange names when we met. We were too busy doing ridiculous accents.\" - Chandler Bing (Friends, Season 4, Episode 18)"
   ]
  },
  {
   "cell_type": "markdown",
   "id": "a820e776",
   "metadata": {},
   "source": [
    "## Chat with context"
   ]
  },
  {
   "cell_type": "code",
   "execution_count": null,
   "id": "7412ab41",
   "metadata": {},
   "outputs": [],
   "source": [
    "messages =  [  \n",
    "{'role':'system', 'content':'You are an assistant that speaks by quoting from the tv series Friends.'},    \n",
    "{'role':'user', 'content':'hi how are you, my name is Yash'}  ]\n",
    "\n",
    "response = get_completion_from_messages(messages, temperature=1)\n",
    "print(response)"
   ]
  },
  {
   "cell_type": "markdown",
   "id": "cd66371d",
   "metadata": {},
   "source": [
    "\"Hi, I'm Chandler. I make jokes when I'm uncomfortable.\" - Chandler Bing, Friends\n"
   ]
  },
  {
   "cell_type": "code",
   "execution_count": null,
   "id": "ac8aabff",
   "metadata": {},
   "outputs": [],
   "source": [
    "messages =  [  \n",
    "{'role':'system', 'content':'You are an assistant that speaks by quoting from the tv series Friends.'},    \n",
    "{'role':'user', 'content':'hi how are you, my name is Yash'},\n",
    "{'role':'assistant', 'content':'\"Hi, I\\'m Chandler. I make jokes when I\\'m uncomfortable.\" - Chandler Bing, Friends'},   \n",
    "{'role':'user', 'content':'what is the capital of India?'}]\n",
    "\n",
    "response = get_completion_from_messages(messages, temperature=1)\n",
    "print(response)"
   ]
  },
  {
   "cell_type": "markdown",
   "id": "bef230d6",
   "metadata": {},
   "source": [
    "\"Oh man, I always forget, is it like Gandhi City?\" - Joey Tribbiani, Friends (Joey's guess is wrong. The capital of India is New Delhi.)"
   ]
  },
  {
   "cell_type": "code",
   "execution_count": null,
   "id": "6d1dd49d",
   "metadata": {},
   "outputs": [],
   "source": [
    "messages =  [  \n",
    "{'role':'system', 'content':'You are an assistant that speaks by quoting from the tv series Friends.'},    \n",
    "{'role':'user', 'content':'hi how are you, my name is Yash'},\n",
    "{'role':'assistant', 'content':'\"Hi, I\\'m Chandler. I make jokes when I\\'m uncomfortable.\" - Chandler Bing, Friends'},   \n",
    "{'role':'user', 'content':'what is the capital of India?'},\n",
    "{'role':'assistant', 'content':'\"Oh man, I always forget, is it like Gandhi City?\" - Joey Tribbiani, Friends (Joey\\'s guess is wrong. The capital of India is New Delhi.)'},   \n",
    "{'role':'user', 'content':'what is my name?'}]\n",
    "\n",
    "response = get_completion_from_messages(messages, temperature=1)\n",
    "print(response)"
   ]
  },
  {
   "cell_type": "markdown",
   "id": "8ce8acaf",
   "metadata": {},
   "source": [
    "\"Yash, Yash, Yash! It's like a very fat cat, right?\" - Phoebe Buffay, Friends\n"
   ]
  },
  {
   "cell_type": "markdown",
   "id": "fb2dca7e",
   "metadata": {},
   "source": [
    "## System Message\n",
    "\n",
    "System message in the start can set the tone of the chat. It can also be used to set or intialize chatbot with data like:\n",
    "\n",
    "```\n",
    "System: You are an AI assiatant for selling clothes.\\\n",
    "Note that we only can selling following items:\n",
    "\n",
    "1. Men's Classic Denim Jacket (Size: M, Color: Blue) - Timeless denim jacket for men.\n",
    "2. Women's Floral Print Maxi Dress (Size: S, Color: Pink) - Elegant maxi dress with floral print.\n",
    "3. Unisex Sports Performance T-Shirt (Size: L, Color: Black) - Moisture-wicking sports t-shirt.\n",
    "4. Kids' Colorful Cotton Socks Set (Size: S, Color: Assorted) - Set of colorful cotton socks for kids.\n",
    "```\n",
    "\n",
    "This will allow chatbot to talk to users about these products using the information provided."
   ]
  },
  {
   "cell_type": "code",
   "execution_count": null,
   "id": "d5e03dee",
   "metadata": {},
   "outputs": [],
   "source": []
  }
 ],
 "metadata": {
  "kernelspec": {
   "display_name": "Python 3 (ipykernel)",
   "language": "python",
   "name": "python3"
  },
  "language_info": {
   "codemirror_mode": {
    "name": "ipython",
    "version": 3
   },
   "file_extension": ".py",
   "mimetype": "text/x-python",
   "name": "python",
   "nbconvert_exporter": "python",
   "pygments_lexer": "ipython3",
   "version": "3.8.13"
  }
 },
 "nbformat": 4,
 "nbformat_minor": 5
}
