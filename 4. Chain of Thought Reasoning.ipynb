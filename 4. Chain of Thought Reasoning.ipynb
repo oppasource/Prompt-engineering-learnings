{
 "cells": [
  {
   "cell_type": "code",
   "execution_count": null,
   "id": "f0f23530",
   "metadata": {},
   "outputs": [],
   "source": []
  },
  {
   "cell_type": "code",
   "execution_count": null,
   "id": "7ba947a2",
   "metadata": {},
   "outputs": [],
   "source": [
    "import os\n",
    "import openai\n",
    "import sys\n",
    "from dotenv import load_dotenv, find_dotenv\n",
    "_ = load_dotenv(find_dotenv())\n",
    "\n",
    "openai.api_key  = os.environ['OPENAI_API_KEY']"
   ]
  },
  {
   "cell_type": "code",
   "execution_count": null,
   "id": "7a5efc6f",
   "metadata": {},
   "outputs": [],
   "source": [
    "def get_completion_from_messages(messages, \n",
    "                                 model=\"gpt-3.5-turbo\", \n",
    "                                 temperature=0, max_tokens=500):\n",
    "    response = openai.ChatCompletion.create(\n",
    "        model=model,\n",
    "        messages=messages,\n",
    "        temperature=temperature, \n",
    "        max_tokens=max_tokens, \n",
    "    )\n",
    "    return response.choices[0].message[\"content\"]"
   ]
  },
  {
   "cell_type": "code",
   "execution_count": null,
   "id": "d674b9fc",
   "metadata": {},
   "outputs": [],
   "source": [
    "delimiter = \"####\"\n",
    "system_message = f\"\"\"\n",
    "You are an assistant who provides information about movies.\\\n",
    "Follow these steps to answer the viewer queries.\\\n",
    "The customer query will be delimited with four hashtags,\\\n",
    "i.e. {delimiter}. \n",
    "\n",
    "Step 1:{delimiter} First decide whether the user is \\\n",
    "asking a question about a specific movie or genre. \\ \n",
    "\n",
    "Step 2:{delimiter} If the user is asking about \\\n",
    "specific movie or genre, identify whether \\\n",
    "the movie is present in the following list.\n",
    "\n",
    "All available movies: \n",
    "Movie 1:\n",
    "Title: \"The Secret Life of Dreams\"\n",
    "Genre: Fantasy, Drama\n",
    "Rating: 8.2/10\n",
    "Cast: Emma Thompson, Tom Hanks, Lily James\n",
    "Release Date: July 15, 2022\n",
    "\n",
    "Movie 2:\n",
    "Title: \"Echoes of Eternity\"\n",
    "Genre: Mystery, Thriller\n",
    "Rating: 7.6/10\n",
    "Cast: Mark Ruffalo, Emily Blunt, Michael Fassbender\n",
    "Release Date: November 3, 2021\n",
    "\n",
    "Movie 3:\n",
    "Title: \"Rhythm of Redemption\"\n",
    "Genre: Musical, Romance\n",
    "Rating: 6.9/10\n",
    "Cast: Anna Kendrick, Chris Evans, Zendaya\n",
    "Release Date: February 28, 2023\n",
    "\n",
    "Movie 4:\n",
    "Title: \"The Edge of Darkness\"\n",
    "Genre: Action, Sci-Fi\n",
    "Rating: 7.8/10\n",
    "Cast: Scarlett Johansson, Chris Pratt, Robert Downey Jr.\n",
    "Release Date: September 10, 2022\n",
    "\n",
    "Step 3:{delimiter} If the message contains movie(s) \\\n",
    "in the list above, retrieve the information for those movies in particular.\\\n",
    "\n",
    "Step 4:{delimiter}: Respond with the retrieved information in an easy to understand\\\n",
    "precise manner.\n",
    "Answer the viewer in a friendly tone.\n",
    "\n",
    "Use the following format:\n",
    "Step 1:{delimiter} <step 1 reasoning>\n",
    "Step 2:{delimiter} <step 2 reasoning>\n",
    "Step 3:{delimiter} <step 3 reasoning>\n",
    "Response to user:{delimiter} <response to customer>\n",
    "\n",
    "Make sure to include {delimiter} to separate every step.\n",
    "\"\"\""
   ]
  },
  {
   "cell_type": "code",
   "execution_count": null,
   "id": "f62915f8",
   "metadata": {},
   "outputs": [],
   "source": [
    "user_message = f\"\"\"\n",
    "\n",
    "I want to know about a movie its name was something like heros of eternity, \\\n",
    "also tell me about any sci-fi movie\n",
    "\n",
    "\"\"\"\n",
    "\n",
    "messages =  [  \n",
    "{'role':'system', \n",
    " 'content': system_message},    \n",
    "{'role':'user', \n",
    " 'content': f\"{delimiter}{user_message}{delimiter}\"},  \n",
    "] \n",
    "\n",
    "response = get_completion_from_messages(messages)\n",
    "print(response)"
   ]
  },
  {
   "cell_type": "markdown",
   "id": "ba3d8f78",
   "metadata": {},
   "source": [
    "Step 1:#### The user is asking about two different movies, one with a specific name and the other in a specific genre.\n",
    "\n",
    "Step 2:#### The movie \"Echoes of Eternity\" is present in the list of available movies. There is also a sci-fi movie called \"The Edge of Darkness\" in the list.\n",
    "\n",
    "Step 3:#### \"Echoes of Eternity\" is a mystery thriller movie with a rating of 7.6/10. It stars Mark Ruffalo, Emily Blunt, and Michael Fassbender. The release date of the movie is November 3, 2021. \"The Edge of Darkness\" is an action sci-fi movie with a rating of 7.8/10. It stars Scarlett Johansson, Chris Pratt, and Robert Downey Jr. The release date of the movie is September 10, 2022.\n",
    "\n",
    "Response to user:#### \"Echoes of Eternity\" is a mystery thriller movie with Mark Ruffalo, Emily Blunt, and Michael Fassbender. It was released on November 3, 2021. \"The Edge of Darkness\" is an action sci-fi movie with Scarlett Johansson, Chris Pratt, and Robert Downey Jr. It will be released on September 10, 2022."
   ]
  },
  {
   "cell_type": "code",
   "execution_count": null,
   "id": "4a79a978",
   "metadata": {},
   "outputs": [],
   "source": []
  }
 ],
 "metadata": {
  "kernelspec": {
   "display_name": "Python 3 (ipykernel)",
   "language": "python",
   "name": "python3"
  },
  "language_info": {
   "codemirror_mode": {
    "name": "ipython",
    "version": 3
   },
   "file_extension": ".py",
   "mimetype": "text/x-python",
   "name": "python",
   "nbconvert_exporter": "python",
   "pygments_lexer": "ipython3",
   "version": "3.8.13"
  }
 },
 "nbformat": 4,
 "nbformat_minor": 5
}
